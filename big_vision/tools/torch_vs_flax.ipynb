{
  "nbformat": 4,
  "nbformat_minor": 0,
  "metadata": {
    "colab": {
      "provenance": [],
      "collapsed_sections": [],
      "toc_visible": true
    },
    "kernelspec": {
      "name": "python3",
      "display_name": "Python 3"
    },
    "language_info": {
      "name": "python"
    }
  },
  "cells": [
    {
      "cell_type": "markdown",
      "source": [
        "### setup"
      ],
      "metadata": {
        "id": "UZJu9pSbs4D2"
      }
    },
    {
      "cell_type": "code",
      "execution_count": 7,
      "metadata": {
        "id": "_l9LISV-plbz"
      },
      "outputs": [],
      "source": [
        "!test -d big_vision || (git clone https://github.com/andsteing/big_vision && cd big_vision && git checkout -b origin/torch)"
      ]
    },
    {
      "cell_type": "code",
      "source": [
        "!pip install -q einops flax ml_collections tensorflow_addons tensorflow_text"
      ],
      "metadata": {
        "colab": {
          "base_uri": "https://localhost:8080/"
        },
        "id": "C_zVWHSOrPEG",
        "outputId": "4dfa91a5-a2d3-4c2e-b774-54d9ccd9d4a5"
      },
      "execution_count": 16,
      "outputs": [
        {
          "output_type": "stream",
          "name": "stdout",
          "text": [
            "\u001b[K     |████████████████████████████████| 578.0 MB 12 kB/s \n",
            "\u001b[K     |████████████████████████████████| 1.7 MB 49.1 MB/s \n",
            "\u001b[K     |████████████████████████████████| 5.9 MB 45.3 MB/s \n",
            "\u001b[K     |████████████████████████████████| 438 kB 52.6 MB/s \n",
            "\u001b[K     |████████████████████████████████| 85 kB 3.8 MB/s \n",
            "\u001b[?25h  Building wheel for ml-collections (setup.py) ... \u001b[?25l\u001b[?25hdone\n"
          ]
        }
      ]
    },
    {
      "cell_type": "code",
      "source": [
        "import sys\n",
        "if 'big_vision' not in sys.path: sys.path.insert(0, 'big_vision')"
      ],
      "metadata": {
        "id": "tkT2qEg5qBal"
      },
      "execution_count": 9,
      "outputs": []
    },
    {
      "cell_type": "code",
      "source": [
        "from google.colab import auth\n",
        "auth.authenticate_user()"
      ],
      "metadata": {
        "id": "H0u-xbTJqchw"
      },
      "execution_count": 10,
      "outputs": []
    },
    {
      "cell_type": "markdown",
      "source": [
        "### fetch params"
      ],
      "metadata": {
        "id": "rsBzUH5ftDud"
      }
    },
    {
      "cell_type": "code",
      "source": [
        "from tensorflow.io import gfile\n",
        "gfile.copy('gs://big_vision_eu/lit_private/lit_jft_b32b/checkpoint.npz', 'lit_jft_b32b.npz', overwrite=True)"
      ],
      "metadata": {
        "id": "0-NimTShqkyI"
      },
      "execution_count": null,
      "outputs": []
    },
    {
      "cell_type": "code",
      "source": [
        "from big_vision import utils\n",
        "params = utils.load_params(None, 'lit_jft_b32b.npz')"
      ],
      "metadata": {
        "id": "AG-cr6ZvqyBD"
      },
      "execution_count": null,
      "outputs": []
    },
    {
      "cell_type": "code",
      "source": [
        "darams = D(params)  # for TAB completion"
      ],
      "metadata": {
        "id": "j__uLwBysCuh"
      },
      "execution_count": 22,
      "outputs": []
    },
    {
      "cell_type": "markdown",
      "source": [
        "### helper code"
      ],
      "metadata": {
        "id": "IRUaeHbHtEyH"
      }
    },
    {
      "cell_type": "code",
      "source": [
        "# some utilities\n",
        "\n",
        "class LoggingDict(dict):\n",
        "\n",
        "  def __init__(self, *args, **kwargs):\n",
        "    super().__init__(*args, **kwargs)\n",
        "    self.accessed = {}\n",
        "\n",
        "  def __getitem__(self, k):\n",
        "    self.accessed[k] = self.accessed.get(k, 0) + 1\n",
        "    return super().__getitem__(k)\n",
        "\n",
        "\n",
        "from typing import Mapping\n",
        "class D(dict):\n",
        "  def __init__(self, *args, **kwargs):\n",
        "    super().__init__(*args, **kwargs)\n",
        "    for k, v in self.items():\n",
        "      while hasattr(self, k):\n",
        "        k += '_'\n",
        "      if isinstance(v, Mapping):\n",
        "        v = D(v)\n",
        "      setattr(self, k, v)"
      ],
      "metadata": {
        "id": "ZwWdbq36q3h-"
      },
      "execution_count": null,
      "outputs": []
    },
    {
      "cell_type": "code",
      "source": [
        "# some helper code to verify results are ~identical\n",
        "\n",
        "import flax\n",
        "import matplotlib.pyplot as plt\n",
        "import numpy as np\n",
        "import torch\n",
        "\n",
        "inputs_ident = lambda x: torch.from_numpy(x)\n",
        "inputs_image_transpose = lambda x: inputs_ident(x).permute(0, 3, 1, 2)\n",
        "inputs_long = lambda x: inputs_ident(x).type(torch.long)\n",
        "outputs_ident = lambda x: x.detach().numpy()\n",
        "inputs_ones = lambda dtype=np.float32: lambda shape: np.ones(shape, dtype=dtype)\n",
        "inputs_normal = lambda shape: np.random.normal(size=shape).astype(np.float32)\n",
        "inputs_randint = lambda max_val: lambda shape: np.random.uniform(0, max_val, size=shape).astype(dtype=np.int32)\n",
        "\n",
        "def hist(targets, outputs):\n",
        "  \"\"\"Shows diffs as histogram.\"\"\"\n",
        "  plt.figure()\n",
        "  plt.hist((targets - outputs).flatten())\n",
        "\n",
        "\n",
        "def cmp(\n",
        "    flaxmod, torchmod, params, inputs_shape,\n",
        "    *,\n",
        "    inputs_generator=inputs_ones(),\n",
        "    inputs_transform=inputs_ident,\n",
        "    outputs_transform=outputs_ident,\n",
        "    visualdiff=hist,\n",
        "    reldiff=False,\n",
        "):\n",
        "  \"\"\"Runs inputs through flaxmod/torchmod & diffs outputs.\"\"\"\n",
        "  if not isinstance(inputs_shape, tuple):\n",
        "    inputs_shape = (inputs_shape,)\n",
        "  if not isinstance(inputs_generator, tuple):\n",
        "    inputs_generator = (inputs_generator,) * len(inputs_shape)\n",
        "  if not isinstance(inputs_transform, tuple):\n",
        "    inputs_transform = (inputs_transform,) * len(inputs_shape)\n",
        "  assert len(inputs_shape) == len(inputs_generator) == len(inputs_transform)\n",
        "\n",
        "  inputs = [ig(shape) for ig, shape in zip(inputs_generator, inputs_shape)]\n",
        "  targets = flaxmod.apply({'params': params}, *inputs)\n",
        "  # targets = targets[1]['encoded']\n",
        "  if not isinstance(targets, tuple):\n",
        "    targets = (targets,)\n",
        "  if isinstance(targets[-1], dict):\n",
        "    targets = targets[:-1]\n",
        "  targets = tuple(np.array(t) for t in targets)\n",
        "\n",
        "  w = LoggingDict(flax.traverse_util.flatten_dict(params, sep='/'))\n",
        "  torchmod.load(w)\n",
        "  unused = set(w).difference(w.accessed)\n",
        "  assert not unused, unused\n",
        "  overused = {k: v for k, v in w.accessed.items() if v > 1}\n",
        "  assert not overused, overused\n",
        "  inputs_ = [it(inp) for it, inp in zip(inputs_transform, inputs)]\n",
        "  outputs_ = torchmod(*inputs_)\n",
        "  if not isinstance(outputs_, tuple):\n",
        "    outputs_ = (outputs_,)\n",
        "  if not isinstance(outputs_transform, tuple):\n",
        "    outputs_transform = (outputs_transform,) * len(outputs_)\n",
        "  outputs = tuple(ot(o) for ot, o in zip(outputs_transform, outputs_))\n",
        "\n",
        "  assert len(targets) == len(outputs), (len(targets), len(outputs))\n",
        "  means, stds = [], []\n",
        "  for i, (t, o) in enumerate(zip(targets, outputs)):\n",
        "    assert t.shape == o.shape, (i, t.shape, o.shape)\n",
        "    visualdiff(t, o)\n",
        "    d = (t - o).flatten()\n",
        "    if reldiff: d /= t.flatten()\n",
        "    means += [d.mean()]\n",
        "    stds += [d.std()]\n",
        "  return [t.shape for t in targets], means, stds\n"
      ],
      "metadata": {
        "id": "wp7g2F4nq-je"
      },
      "execution_count": 27,
      "outputs": []
    },
    {
      "cell_type": "markdown",
      "source": [
        "### compare implementations"
      ],
      "metadata": {
        "id": "WmZMcO0CtGXa"
      }
    },
    {
      "cell_type": "code",
      "source": [
        "# what we want to compare\n",
        "\n",
        "from big_vision.tools import torch as bv_torch\n",
        "from big_vision.models import vit\n",
        "from big_vision.models.proj.image_text import text_transformer, two_towers\n"
      ],
      "metadata": {
        "colab": {
          "base_uri": "https://localhost:8080/"
        },
        "id": "8BsFR6JhrEPm",
        "outputId": "e019883a-7686-41dc-9bb1-9139ebba9ea7"
      },
      "execution_count": null,
      "outputs": [
        {
          "output_type": "stream",
          "name": "stderr",
          "text": [
            "WARNING:absl:GlobalAsyncCheckpointManager is not imported correctly. Checkpointing of GlobalDeviceArrays will not be available.To use the feature, install tensorstore.\n"
          ]
        }
      ]
    },
    {
      "cell_type": "code",
      "source": [
        "flaxmod = vit.MlpBlock()\n",
        "torchmod = bv_torch.MlpBlock()\n",
        "cmp(flaxmod, torchmod, darams.img.Transformer.encoderblock_0.MlpBlock_0, [1, 2, 768], visualdiff=hist)"
      ],
      "metadata": {
        "colab": {
          "base_uri": "https://localhost:8080/",
          "height": 283
        },
        "id": "IPPOW1iNr9Fs",
        "outputId": "dd7bea3c-6795-4b56-bd4f-ed0dfe173a46"
      },
      "execution_count": 28,
      "outputs": [
        {
          "output_type": "execute_result",
          "data": {
            "text/plain": [
              "([(1, 2, 768)], [-6.703467e-06], [0.00036685242])"
            ]
          },
          "metadata": {},
          "execution_count": 28
        },
        {
          "output_type": "display_data",
          "data": {
            "text/plain": [
              "<Figure size 432x288 with 1 Axes>"
            ],
            "image/png": "[encoded data removed]"
          },
          "metadata": {
            "needs_background": "light"
          }
        }
      ]
    },
    {
      "cell_type": "code",
      "source": [
        "flaxmod = flax.linen.MultiHeadDotProductAttention(num_heads=12)\n",
        "torchmod = bv_torch.MultiHeadDotProductAttention()\n",
        "p = darams.img.Transformer.encoderblock_0.MultiHeadDotProductAttention_0\n",
        "cmp(flaxmod, torchmod, p, ([1, 2, 768], [1, 3, 768]), inputs_generator=inputs_normal)"
      ],
      "metadata": {
        "colab": {
          "base_uri": "https://localhost:8080/",
          "height": 353
        },
        "id": "vFGTLV_Er-KN",
        "outputId": "d412b42e-95ce-4158-fdc7-3997ebf7572b"
      },
      "execution_count": 29,
      "outputs": [
        {
          "output_type": "stream",
          "name": "stderr",
          "text": [
            "big_vision/big_vision/tools/torch.py:85: UserWarning: The use of `x.T` on tensors of dimension other than 2 to reverse their shape is deprecated and it will throw an error in a future release. Consider `x.mT` to transpose batches of matricesor `x.permute(*torch.arange(x.ndim - 1, -1, -1))` to reverse the dimensions of a tensor. (Triggered internally at  ../aten/src/ATen/native/TensorShape.cpp:2981.)\n",
            "  getattr(self, kqv).bias.copy_(_n2p(w[f'{prefix}{kqv}/bias'], t=False).flatten().T)\n"
          ]
        },
        {
          "output_type": "execute_result",
          "data": {
            "text/plain": [
              "([(1, 2, 768)], [1.6986329e-09], [8.438751e-08])"
            ]
          },
          "metadata": {},
          "execution_count": 29
        },
        {
          "output_type": "display_data",
          "data": {
            "text/plain": [
              "<Figure size 432x288 with 1 Axes>"
            ],
            "image/png": "[encoded data removed]"
          },
          "metadata": {
            "needs_background": "light"
          }
        }
      ]
    },
    {
      "cell_type": "code",
      "source": [
        "flaxmod = vit.Encoder1DBlock()\n",
        "torchmod = bv_torch.Encoder1DBlock()\n",
        "p = darams.img.Transformer.encoderblock_0\n",
        "cmp(flaxmod, torchmod, p, [1, 2, 768])"
      ],
      "metadata": {
        "colab": {
          "base_uri": "https://localhost:8080/",
          "height": 283
        },
        "id": "KJruw_BCsRiR",
        "outputId": "4a7a7ec2-3145-4a4f-8d15-fc908a0b30ee"
      },
      "execution_count": 30,
      "outputs": [
        {
          "output_type": "execute_result",
          "data": {
            "text/plain": [
              "([(1, 2, 768)], [8.656391e-06], [0.0019266398])"
            ]
          },
          "metadata": {},
          "execution_count": 30
        },
        {
          "output_type": "display_data",
          "data": {
            "text/plain": [
              "<Figure size 432x288 with 1 Axes>"
            ],
            "image/png": "[encoded data removed]"
          },
          "metadata": {
            "needs_background": "light"
          }
        }
      ]
    },
    {
      "cell_type": "code",
      "source": [
        "flaxmod = vit.Encoder(12)\n",
        "torchmod = bv_torch.Encoder(12)\n",
        "p = darams.img.Transformer\n",
        "cmp(flaxmod, torchmod, p, [1, 2, 768])"
      ],
      "metadata": {
        "colab": {
          "base_uri": "https://localhost:8080/",
          "height": 283
        },
        "id": "idguhjxbsUzd",
        "outputId": "565f5c97-c585-4b39-a9bc-5a8ec128c5b2"
      },
      "execution_count": 31,
      "outputs": [
        {
          "output_type": "execute_result",
          "data": {
            "text/plain": [
              "([(1, 2, 768)], [3.1225714e-05], [0.028721781])"
            ]
          },
          "metadata": {},
          "execution_count": 31
        },
        {
          "output_type": "display_data",
          "data": {
            "text/plain": [
              "<Figure size 432x288 with 1 Axes>"
            ],
            "image/png": "[encoded data removed]"
          },
          "metadata": {
            "needs_background": "light"
          }
        }
      ]
    },
    {
      "cell_type": "code",
      "source": [
        "flaxmod = vit.MAPHead()\n",
        "torchmod = bv_torch.MAPHead()\n",
        "p = darams.img.MAPHead_0\n",
        "cmp(flaxmod, torchmod, p, [1, 2, 768])"
      ],
      "metadata": {
        "colab": {
          "base_uri": "https://localhost:8080/",
          "height": 283
        },
        "id": "yBayDzyRscnT",
        "outputId": "fdef27b8-5557-44ee-d113-3dd565b100e2"
      },
      "execution_count": 32,
      "outputs": [
        {
          "output_type": "execute_result",
          "data": {
            "text/plain": [
              "([(1, 768)], [-2.2414606e-06], [0.00016751807])"
            ]
          },
          "metadata": {},
          "execution_count": 32
        },
        {
          "output_type": "display_data",
          "data": {
            "text/plain": [
              "<Figure size 432x288 with 1 Axes>"
            ],
            "image/png": "[encoded data removed]"
          },
          "metadata": {
            "needs_background": "light"
          }
        }
      ]
    },
    {
      "cell_type": "code",
      "source": [
        "flaxmod = vit.MAPHead()\n",
        "torchmod = bv_torch.MAPHead()\n",
        "p = darams.img.MAPHead_0\n",
        "cmp(flaxmod, torchmod, p, [1, 2, 768])"
      ],
      "metadata": {
        "colab": {
          "base_uri": "https://localhost:8080/",
          "height": 283
        },
        "id": "EPu3bXy5seTL",
        "outputId": "7688e304-6dae-4ff9-fdae-d90428642ee8"
      },
      "execution_count": 33,
      "outputs": [
        {
          "output_type": "execute_result",
          "data": {
            "text/plain": [
              "([(1, 768)], [-2.2414606e-06], [0.00016751807])"
            ]
          },
          "metadata": {},
          "execution_count": 33
        },
        {
          "output_type": "display_data",
          "data": {
            "text/plain": [
              "<Figure size 432x288 with 1 Axes>"
            ],
            "image/png": "[encoded data removed]"
          },
          "metadata": {
            "needs_background": "light"
          }
        }
      ]
    },
    {
      "cell_type": "code",
      "source": [
        "flaxmod = vit.Model(None, variant='B/32', pool_type='map_buggy')\n",
        "torchmod = bv_torch.ViT(0, **bv_torch._IMAGE_VARIANTS['B/32'], pool_type='map_buggy')\n",
        "p = darams.img\n",
        "cmp(flaxmod, torchmod, p, [1, 224, 244, 3],\n",
        "    inputs_generator=inputs_normal,\n",
        "    inputs_transform=inputs_image_transpose)"
      ],
      "metadata": {
        "colab": {
          "base_uri": "https://localhost:8080/",
          "height": 283
        },
        "id": "OH-Ee7URsfqr",
        "outputId": "0abd13d0-783d-4fb6-e19a-783f1a960514"
      },
      "execution_count": 35,
      "outputs": [
        {
          "output_type": "execute_result",
          "data": {
            "text/plain": [
              "([(1, 768)], [0.0005097343], [0.047091104])"
            ]
          },
          "metadata": {},
          "execution_count": 35
        },
        {
          "output_type": "display_data",
          "data": {
            "text/plain": [
              "<Figure size 432x288 with 1 Axes>"
            ],
            "image/png": "[encoded data removed]"
          },
          "metadata": {
            "needs_background": "light"
          }
        }
      ]
    },
    {
      "cell_type": "code",
      "source": [
        "flaxmod = text_transformer.Model(768, variant='B')\n",
        "torchmod = bv_torch.TextTransformer(768, width=768, depth=12, num_heads=12, mlp_dim=4*768)\n",
        "p = darams.txt\n",
        "cmp(flaxmod, torchmod, p, [1, 16], inputs_generator=inputs_randint(32_000), inputs_transform=inputs_long)"
      ],
      "metadata": {
        "colab": {
          "base_uri": "https://localhost:8080/",
          "height": 283
        },
        "id": "pvoWh0UmshJp",
        "outputId": "fc2496f5-93cd-4bce-b6d0-b35646eca365"
      },
      "execution_count": 36,
      "outputs": [
        {
          "output_type": "execute_result",
          "data": {
            "text/plain": [
              "([(1, 768)], [-0.00016547808], [0.007839344])"
            ]
          },
          "metadata": {},
          "execution_count": 36
        },
        {
          "output_type": "display_data",
          "data": {
            "text/plain": [
              "<Figure size 432x288 with 1 Axes>"
            ],
            "image/png": "[encoded data removed]"
          },
          "metadata": {
            "needs_background": "light"
          }
        }
      ]
    },
    {
      "cell_type": "code",
      "source": [
        "import ml_collections\n",
        "kw = dict(image=dict(variant='B/32', pool_type='map_buggy'), text=dict(variant='B'), out_dim=[0, 768])\n",
        "flaxmod = two_towers.Model(**ml_collections.ConfigDict(kw))  # conversion required !!\n",
        "torchmod = bv_torch.TwoTowers(**kw)\n",
        "p = darams\n",
        "cmp(flaxmod, torchmod, p, ([2, 224, 224, 3], [2, 16]),\n",
        "    inputs_generator=(inputs_normal, inputs_randint(32_000)),\n",
        "    inputs_transform=(inputs_image_transpose, inputs_long))"
      ],
      "metadata": {
        "colab": {
          "base_uri": "https://localhost:8080/",
          "height": 568
        },
        "id": "O-KcmlDGsnTu",
        "outputId": "ace0ecba-4cec-4bd6-d7f9-ce519a112f42"
      },
      "execution_count": 39,
      "outputs": [
        {
          "output_type": "execute_result",
          "data": {
            "text/plain": [
              "([(2, 768), (2, 768)],\n",
              " [-2.0245004e-06, 3.8465214e-07],\n",
              " [0.000103778126, 9.317586e-05])"
            ]
          },
          "metadata": {},
          "execution_count": 39
        },
        {
          "output_type": "display_data",
          "data": {
            "text/plain": [
              "<Figure size 432x288 with 1 Axes>"
            ],
            "image/png": "[encoded data removed]"
          },
          "metadata": {
            "needs_background": "light"
          }
        },
        {
          "output_type": "display_data",
          "data": {
            "text/plain": [
              "<Figure size 432x288 with 1 Axes>"
            ],
            "image/png": "[encoded data removed]"
          },
          "metadata": {
            "needs_background": "light"
          }
        }
      ]
    }
  ]
}